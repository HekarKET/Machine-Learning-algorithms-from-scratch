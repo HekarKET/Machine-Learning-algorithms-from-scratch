{
 "cells": [
  {
   "cell_type": "code",
   "execution_count": 9,
   "metadata": {},
   "outputs": [],
   "source": [
    "import numpy as np\n",
    "from collections import Counter \n",
    "import pandas as pd"
   ]
  },
  {
   "cell_type": "code",
   "execution_count": 3,
   "metadata": {},
   "outputs": [],
   "source": [
    "from sklearn.datasets import load_iris"
   ]
  },
  {
   "cell_type": "code",
   "execution_count": 101,
   "metadata": {},
   "outputs": [],
   "source": [
    "class Naive_bayes:\n",
    "    \n",
    "    def __init__(self,priors=None):\n",
    "        #if priors are known\n",
    "        self.priors = priors\n",
    "        \n",
    "    def fit(self,X,y):\n",
    "        #getting class data\n",
    "        n_samples,n_features = X.shape\n",
    "        self.classes = np.unique(y)\n",
    "        num_classes = len(self.classes)\n",
    "        \n",
    "        #initiating arrays\n",
    "        self.mean = np.zeros((num_classes,n_features),dtype = np.float64)\n",
    "        self.var = np.zeros((num_classes,n_features),dtype = np.float64)\n",
    "        self.priors = np.zeros(num_classes,dtype = np.float64)\n",
    "        \n",
    "        #using enumerate to setting custom index\n",
    "        for idx, i in enumerate(self.classes):\n",
    "            #fetching all the value of x where y is equals to i (0,1,..)\n",
    "            X_c = X[i==y]\n",
    "            self.mean[idx,:] = X_c.mean(axis=0)\n",
    "            self.var[idx,:] = X_c.var(axis=0)\n",
    "            self.priors[idx] = X_c.shape[0]\n",
    "            \n",
    "    def predict(self,X):  \n",
    "        y_predict = [self._predict(x) for x in X]\n",
    "        return np.array(y_predict)\n",
    "    \n",
    "    def _predict(self,X):\n",
    "        #created empty list to add likelihoods\n",
    "        likelihoods = []\n",
    "        \n",
    "        for idx, i in enumerate(self.classes):\n",
    "            #applying log for normalization\n",
    "            prior = np.log(self.priors[idx])\n",
    "            #adding all the values\n",
    "            class_likelihood = np.sum(np.log(self._pdf(idx,X)))\n",
    "            likelihood =  prior+class_likelihood\n",
    "            likelihoods.append(likelihood)  \n",
    "        #np.argmax(likelihoods) --> return the index of maximum likelihood in likelihoods\n",
    "        return self.classes[np.argmax(likelihoods)]\n",
    "            \n",
    "    def _pdf(self,idx,x):\n",
    "        #function to find the pdf of feaetures x of class idx\n",
    "        mean = self.mean[idx]\n",
    "        var = self.var[idx]\n",
    "        numerator = np.exp(- (x-mean)**2 / (2 * var))\n",
    "        denominator = np.sqrt(2 * np.pi * var)\n",
    "        return numerator / denominator    "
   ]
  },
  {
   "cell_type": "code",
   "execution_count": 102,
   "metadata": {},
   "outputs": [],
   "source": [
    "from sklearn.model_selection import train_test_split\n",
    "data = load_iris()\n",
    "X,y = data.data,data.target\n",
    "X_train,X_test,y_train,y_test = train_test_split(X,y,test_size=0.3,random_state=30)"
   ]
  },
  {
   "cell_type": "code",
   "execution_count": 105,
   "metadata": {},
   "outputs": [],
   "source": [
    "model = Naive_bayes()\n",
    "model.fit(X_train,y_train)\n",
    "y_pred = model.predict(X_test)"
   ]
  },
  {
   "cell_type": "code",
   "execution_count": 108,
   "metadata": {},
   "outputs": [],
   "source": [
    "from sklearn.metrics import f1_score,confusion_matrix"
   ]
  },
  {
   "cell_type": "code",
   "execution_count": 110,
   "metadata": {},
   "outputs": [
    {
     "data": {
      "text/plain": [
       "<AxesSubplot:>"
      ]
     },
     "execution_count": 110,
     "metadata": {},
     "output_type": "execute_result"
    },
    {
     "data": {
      "image/png": "[encoded data removed]",
      "text/plain": [
       "<Figure size 432x288 with 2 Axes>"
      ]
     },
     "metadata": {
      "needs_background": "light"
     },
     "output_type": "display_data"
    }
   ],
   "source": [
    "import seaborn as sns\n",
    "clf = confusion_matrix(y_test,y_pred)\n",
    "sns.heatmap(clf, annot=True)"
   ]
  },
  {
   "cell_type": "code",
   "execution_count": null,
   "metadata": {},
   "outputs": [],
   "source": []
  }
 ],
 "metadata": {
  "kernelspec": {
   "display_name": "Python 3",
   "language": "python",
   "name": "python3"
  },
  "language_info": {
   "codemirror_mode": {
    "name": "ipython",
    "version": 3
   },
   "file_extension": ".py",
   "mimetype": "text/x-python",
   "name": "python",
   "nbconvert_exporter": "python",
   "pygments_lexer": "ipython3",
   "version": "3.8.5"
  }
 },
 "nbformat": 4,
 "nbformat_minor": 4
}
