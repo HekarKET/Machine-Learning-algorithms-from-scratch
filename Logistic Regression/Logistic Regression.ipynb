{
 "cells": [
  {
   "cell_type": "code",
   "execution_count": 25,
   "metadata": {},
   "outputs": [],
   "source": [
    "import numpy as np"
   ]
  },
  {
   "cell_type": "code",
   "execution_count": 26,
   "metadata": {},
   "outputs": [],
   "source": [
    "class Logistic_Regression:\n",
    "    def __init__(self,learning_rate=0.01,n_iter=1000):\n",
    "        #reference to the current instance of the class \n",
    "        self.learning_rate = learning_rate\n",
    "        self.n_iter = n_iter\n",
    "        \n",
    "        #we will declare this value during fit\n",
    "        self.weight = None\n",
    "        self.bias = None\n",
    "        \n",
    "        #creating history variable to store accuracy\n",
    "        self.history = []\n",
    "        \n",
    "    def fit(self,X,y):\n",
    "        #Fetching number of samples and features from the data\n",
    "        n_samples, n_features = X.shape\n",
    "        \n",
    "        #Initiation weight and bias with zero\n",
    "        self.weight = np.zeros(shape=(n_features))\n",
    "        self.bias = 0\n",
    "        \n",
    "        \n",
    "        \n",
    "        #Fitting the data \n",
    "        for _ in range(self.n_iter):\n",
    "            #First predict the y using initial weight and bias\n",
    "            linear = np.dot(X,self.weight) + self.bias\n",
    "            y_predicted = self.sigmoid(linear)\n",
    "            \n",
    "            ##Adding error in history\n",
    "            self.history.append(self.accuracy(y_predicted,y))\n",
    "            \n",
    "            #getting gradient             \n",
    "            dw = (1/n_samples) * np.dot(X.T,(y_predicted - y))\n",
    "            db = (1/n_samples) * np.sum(y_predicted - y)\n",
    "            \n",
    "            #updating values using gradient \n",
    "            self.weight = self.weight - (self.learning_rate)*dw\n",
    "            self.bias = self.bias - (self.learning_rate)*db\n",
    "            \n",
    "        return self.history\n",
    "            \n",
    "    def predict(self,X):\n",
    "        linear = np.dot(X,self.weight) + self.bias\n",
    "        y_predicted = self.sigmoid(linear)\n",
    "        return y_predicted > 0.5\n",
    "\n",
    "    def sigmoid(self,linear):\n",
    "        return 1/(1+np.exp(-linear))\n",
    "    \n",
    "    def accuracy(self,predictions,targets):\n",
    "         return (np.sum(np.equal(predictions>0.5,targets)) / len(targets))\n",
    "        \n",
    "    def _intercept(self):\n",
    "        return self.bias\n",
    "    \n",
    "    def _coef(self):\n",
    "        return self.weight"
   ]
  },
  {
   "cell_type": "code",
   "execution_count": 27,
   "metadata": {},
   "outputs": [],
   "source": [
    "from sklearn.datasets import make_classification \n",
    "from sklearn.model_selection import train_test_split"
   ]
  },
  {
   "cell_type": "code",
   "execution_count": 118,
   "metadata": {},
   "outputs": [],
   "source": [
    "X, y = make_classification(n_samples=150,n_features=2,n_redundant=0,random_state=15)\n",
    "X_train, X_test, y_train, y_test = train_test_split(X, y, test_size=0.33, random_state=42)"
   ]
  },
  {
   "cell_type": "code",
   "execution_count": 120,
   "metadata": {},
   "outputs": [],
   "source": [
    "import matplotlib.pyplot as plt\n",
    "from pylab import rcParams\n",
    "%matplotlib inline"
   ]
  },
  {
   "cell_type": "code",
   "execution_count": 121,
   "metadata": {},
   "outputs": [
    {
     "data": {
      "text/plain": [
       "<matplotlib.collections.PathCollection at 0x20ffcbb4ac0>"
      ]
     },
     "execution_count": 121,
     "metadata": {},
     "output_type": "execute_result"
    },
    {
     "data": {
      "image/png": "[encoded data removed]",
      "text/plain": [
       "<Figure size 504x360 with 1 Axes>"
      ]
     },
     "metadata": {
      "needs_background": "light"
     },
     "output_type": "display_data"
    }
   ],
   "source": [
    "plt.figure(figsize=(7, 5))\n",
    "plt.scatter(X[:,0],X[:,1],c=y)"
   ]
  },
  {
   "cell_type": "code",
   "execution_count": 122,
   "metadata": {},
   "outputs": [
    {
     "name": "stdout",
     "output_type": "stream",
     "text": [
      "Weight: [0.12571291 1.73712511]\n",
      "Bias: 0.13\n"
     ]
    }
   ],
   "source": [
    "model = Logistic_Regression(learning_rate=0.01)\n",
    "hist= model.fit(X_train, y_train)\n",
    "y_predict = model.predict(X_test)\n",
    "w,b = model._coef(),model._intercept()\n",
    "print(\"Weight: {}\\nBias: {:.2f}\".format(w,b))"
   ]
  },
  {
   "cell_type": "code",
   "execution_count": 123,
   "metadata": {},
   "outputs": [
    {
     "data": {
      "text/plain": [
       "0.86"
      ]
     },
     "execution_count": 123,
     "metadata": {},
     "output_type": "execute_result"
    }
   ],
   "source": [
    "model.accuracy(y_test,y_predict)"
   ]
  },
  {
   "cell_type": "code",
   "execution_count": 124,
   "metadata": {},
   "outputs": [],
   "source": [
    "from sklearn.metrics import confusion_matrix\n",
    "cf_matrix = confusion_matrix(y_test,y_predict)"
   ]
  },
  {
   "cell_type": "code",
   "execution_count": 125,
   "metadata": {},
   "outputs": [
    {
     "data": {
      "text/plain": [
       "<AxesSubplot:>"
      ]
     },
     "execution_count": 125,
     "metadata": {},
     "output_type": "execute_result"
    },
    {
     "data": {
      "image/png": "[encoded data removed]",
      "text/plain": [
       "<Figure size 432x288 with 2 Axes>"
      ]
     },
     "metadata": {
      "needs_background": "light"
     },
     "output_type": "display_data"
    }
   ],
   "source": [
    "import seaborn as sns\n",
    "sns.heatmap(cf_matrix, annot=True)"
   ]
  },
  {
   "cell_type": "code",
   "execution_count": 126,
   "metadata": {},
   "outputs": [
    {
     "data": {
      "text/plain": [
       "[<matplotlib.lines.Line2D at 0x20ffccab430>]"
      ]
     },
     "execution_count": 126,
     "metadata": {},
     "output_type": "execute_result"
    },
    {
     "data": {
      "image/png": "[encoded data removed]",
      "text/plain": [
       "<Figure size 432x288 with 1 Axes>"
      ]
     },
     "metadata": {
      "needs_background": "light"
     },
     "output_type": "display_data"
    }
   ],
   "source": [
    "plt.plot(hist)"
   ]
  },
  {
   "cell_type": "code",
   "execution_count": null,
   "metadata": {},
   "outputs": [],
   "source": []
  }
 ],
 "metadata": {
  "kernelspec": {
   "display_name": "Python 3",
   "language": "python",
   "name": "python3"
  },
  "language_info": {
   "codemirror_mode": {
    "name": "ipython",
    "version": 3
   },
   "file_extension": ".py",
   "mimetype": "text/x-python",
   "name": "python",
   "nbconvert_exporter": "python",
   "pygments_lexer": "ipython3",
   "version": "3.8.5"
  }
 },
 "nbformat": 4,
 "nbformat_minor": 4
}
